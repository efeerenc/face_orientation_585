{
 "cells": [
  {
   "cell_type": "code",
   "execution_count": 1,
   "metadata": {},
   "outputs": [],
   "source": [
    "import numpy as np\n",
    "from neural_network.layer import *\n",
    "from neural_network.net import *\n",
    "from queue import Queue\n",
    "import matplotlib.pyplot as plt\n",
    "from tqdm import tqdm"
   ]
  },
  {
   "cell_type": "code",
   "execution_count": 2,
   "metadata": {},
   "outputs": [],
   "source": [
    "x_input = np.ones((10, 1))\n",
    "y_target = np.array([[0.5], [0.5]])\n",
    "linear1 = Linear(10, 5)\n",
    "relu1 = ReLU(linear1)\n",
    "linear2 = Linear(5, 2, relu1)\n",
    "relu2 = ReLU(linear2)\n",
    "linear3 = Linear(2, 2, relu2)\n",
    "sigmoid = Sigmoid(linear3)\n",
    "loss_layer = MSE_Loss(sigmoid)\n",
    "\n",
    "model = NeuralNetwork(linear1, sigmoid, loss_layer)"
   ]
  },
  {
   "cell_type": "code",
   "execution_count": 3,
   "metadata": {},
   "outputs": [
    {
     "data": {
      "text/plain": [
       "'\\nx_input = np.ones((10, 1))\\ny_target = np.array([[0.5], [0.5]])\\n\\nlinear1 = Linear(10, 5, layer_id=1)\\nrelu1 = ReLU(linear1, layer_id=1)\\nlinear2 = Linear(5, 5, relu1, layer_id=2)\\nrelu2 = ReLU(linear2, layer_id=2)\\n\\nadd1 = Addition([relu1, relu2], layer_id=1)\\n\\nlinear3 = Linear(5, 5, add1, layer_id=3)\\nrelu3 = ReLU(linear3, layer_id=3)\\n\\nadd2 = Addition([relu2, relu3], layer_id=2)\\n\\nlinear4 = Linear(5, 2, add2, layer_id=4)\\nsigmoid = Sigmoid(linear4)\\nloss_layer = MSE_Loss(sigmoid)\\n\\nmodel = NeuralNetwork(linear1, sigmoid, loss_layer)\\n'"
      ]
     },
     "execution_count": 3,
     "metadata": {},
     "output_type": "execute_result"
    }
   ],
   "source": [
    "\"\"\"\n",
    "x_input = np.ones((10, 1))\n",
    "y_target = np.array([[0.5], [0.5]])\n",
    "\n",
    "linear1 = Linear(10, 5, layer_id=1)\n",
    "relu1 = ReLU(linear1, layer_id=1)\n",
    "linear2 = Linear(5, 5, relu1, layer_id=2)\n",
    "relu2 = ReLU(linear2, layer_id=2)\n",
    "\n",
    "add1 = Addition([relu1, relu2], layer_id=1)\n",
    "\n",
    "linear3 = Linear(5, 5, add1, layer_id=3)\n",
    "relu3 = ReLU(linear3, layer_id=3)\n",
    "\n",
    "add2 = Addition([relu2, relu3], layer_id=2)\n",
    "\n",
    "linear4 = Linear(5, 2, add2, layer_id=4)\n",
    "sigmoid = Sigmoid(linear4)\n",
    "loss_layer = MSE_Loss(sigmoid)\n",
    "\n",
    "model = NeuralNetwork(linear1, sigmoid, loss_layer)\n",
    "\"\"\""
   ]
  },
  {
   "cell_type": "code",
   "execution_count": 4,
   "metadata": {},
   "outputs": [
    {
     "name": "stdout",
     "output_type": "stream",
     "text": [
      "7\n",
      "[<neural_network.layer.Sigmoid object at 0x0000020AFC247640>]\n",
      "Forward order:\n",
      "Linear: (10, 1) -> (5, 1)\n",
      "ReLU\n",
      "Linear: (5, 1) -> (2, 1)\n",
      "ReLU\n",
      "Linear: (2, 1) -> (2, 1)\n",
      "Sigmoid\n",
      "MSE Loss\n",
      "\n",
      "Backward order:\n",
      "MSE Loss\n",
      "Sigmoid\n",
      "Linear: (2, 1) -> (2, 1)\n",
      "ReLU\n",
      "Linear: (5, 1) -> (2, 1)\n",
      "ReLU\n",
      "Linear: (10, 1) -> (5, 1)\n",
      "\n",
      "Net out: [[0.99921878]\n",
      " [0.60585896]]\n"
     ]
    }
   ],
   "source": [
    "print(model.n_layers)\n",
    "print(model.output_layer)\n",
    "\n",
    "print(\"Forward order:\")\n",
    "for layer in model._forward_order:\n",
    "    print(layer)\n",
    "\n",
    "print(\"\\nBackward order:\")\n",
    "for layer in model._backward_order:\n",
    "    print(layer)\n",
    "\n",
    "net_out = model.forward(x_input)\n",
    "\n",
    "print(\"\\nNet out:\", net_out)"
   ]
  },
  {
   "cell_type": "code",
   "execution_count": 5,
   "metadata": {},
   "outputs": [
    {
     "name": "stderr",
     "output_type": "stream",
     "text": [
      "100%|██████████| 10000/10000 [00:00<00:00, 13781.31it/s]\n"
     ]
    }
   ],
   "source": [
    "loss_array = []\n",
    "for i in tqdm(range(20000)):\n",
    "    out = model.forward(x_input)\n",
    "    #print(out)\n",
    "    loss = model.loss_layer.forward(out, y_target)\n",
    "    loss_array.append(loss)\n",
    "    model.backward()\n",
    "    model.step()"
   ]
  },
  {
   "cell_type": "code",
   "execution_count": 6,
   "metadata": {},
   "outputs": [
    {
     "data": {
      "text/plain": [
       "[<matplotlib.lines.Line2D at 0x20afa017ac0>]"
      ]
     },
     "execution_count": 6,
     "metadata": {},
     "output_type": "execute_result"
    },
    {
     "data": {
      "image/png": "[encoded data removed]",
      "text/plain": [
       "<Figure size 640x480 with 1 Axes>"
      ]
     },
     "metadata": {},
     "output_type": "display_data"
    }
   ],
   "source": [
    "plt.plot(loss_array)"
   ]
  }
 ],
 "metadata": {
  "kernelspec": {
   "display_name": "torch",
   "language": "python",
   "name": "python3"
  },
  "language_info": {
   "codemirror_mode": {
    "name": "ipython",
    "version": 3
   },
   "file_extension": ".py",
   "mimetype": "text/x-python",
   "name": "python",
   "nbconvert_exporter": "python",
   "pygments_lexer": "ipython3",
   "version": "3.10.13"
  }
 },
 "nbformat": 4,
 "nbformat_minor": 2
}
