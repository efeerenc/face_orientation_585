{
 "cells": [
  {
   "cell_type": "code",
   "execution_count": 1,
   "metadata": {},
   "outputs": [],
   "source": [
    "import numpy as np\n",
    "from neural_network.layer import *\n",
    "from neural_network.net import *\n",
    "from queue import Queue\n",
    "import matplotlib.pyplot as plt\n",
    "from tqdm import tqdm\n",
    "from neural_network.trainutils import Dataset, train_test_split\n",
    "import os"
   ]
  },
  {
   "cell_type": "code",
   "execution_count": 2,
   "metadata": {},
   "outputs": [],
   "source": [
    "current_dir = os.getcwd()\n",
    "face_dir = os.path.join(current_dir, \"cmu+face+images\", \"faces\")\n",
    "dataset = Dataset(face_dir, flatten=False)"
   ]
  },
  {
   "cell_type": "code",
   "execution_count": 3,
   "metadata": {},
   "outputs": [
    {
     "data": {
      "text/plain": [
       "(624, 120, 128)"
      ]
     },
     "execution_count": 3,
     "metadata": {},
     "output_type": "execute_result"
    }
   ],
   "source": [
    "dataset.data.shape"
   ]
  },
  {
   "cell_type": "code",
   "execution_count": 4,
   "metadata": {},
   "outputs": [],
   "source": [
    "train, validation, test = train_test_split(dataset, (0.8, 0.0, 0.2))"
   ]
  },
  {
   "cell_type": "code",
   "execution_count": 5,
   "metadata": {},
   "outputs": [
    {
     "data": {
      "text/plain": [
       "499"
      ]
     },
     "execution_count": 5,
     "metadata": {},
     "output_type": "execute_result"
    }
   ],
   "source": [
    "len(train)"
   ]
  },
  {
   "cell_type": "code",
   "execution_count": 6,
   "metadata": {},
   "outputs": [
    {
     "data": {
      "text/plain": [
       "(1, 1, 120, 128)"
      ]
     },
     "execution_count": 6,
     "metadata": {},
     "output_type": "execute_result"
    }
   ],
   "source": [
    "dataset[500][0].shape"
   ]
  },
  {
   "cell_type": "code",
   "execution_count": 7,
   "metadata": {},
   "outputs": [
    {
     "data": {
      "text/plain": [
       "(1, 1, 120, 128)"
      ]
     },
     "execution_count": 7,
     "metadata": {},
     "output_type": "execute_result"
    }
   ],
   "source": [
    "input_shape = train[0][0].shape\n",
    "input_shape"
   ]
  },
  {
   "cell_type": "code",
   "execution_count": 8,
   "metadata": {},
   "outputs": [
    {
     "data": {
      "text/plain": [
       "(array([[[[-0.53781922, -1.00700955, -1.87643687, ..., -1.75327781,\n",
       "           -1.727518  , -1.20809095],\n",
       "          [-0.5563398 , -1.01038161, -1.75703117, ..., -1.7262451 ,\n",
       "           -1.63630696, -1.15674693],\n",
       "          [-1.413042  , -1.34143483, -1.51738675, ..., -1.6662946 ,\n",
       "           -1.51169855, -0.93831683],\n",
       "          ...,\n",
       "          [-0.9025624 , -0.95363094, -0.80844859, ..., -0.39349758,\n",
       "           -0.03855206,  0.2316823 ],\n",
       "          [-0.89661588, -0.91519234, -0.83310092, ..., -0.3278346 ,\n",
       "            0.01872114,  0.24993426],\n",
       "          [-0.7802091 , -0.76510291, -0.73072724, ..., -0.32810734,\n",
       "            0.05394545,  0.19221374]]]]),\n",
       " array([[0.],\n",
       "        [0.],\n",
       "        [1.],\n",
       "        [0.]]))"
      ]
     },
     "execution_count": 8,
     "metadata": {},
     "output_type": "execute_result"
    }
   ],
   "source": [
    "train[0]"
   ]
  },
  {
   "cell_type": "code",
   "execution_count": 9,
   "metadata": {},
   "outputs": [],
   "source": [
    "kernel_shape = np.ndarray([1, 1, 3, 3])\n",
    "pad = 1\n",
    "stride = 1\n",
    "\n",
    "conv1 = Conv2D(kernel_shape, pad, stride, layer_id=1) # 120x128\n",
    "maxpool1 = MaxPool2D(2, 0, 2, conv1) # 60x64\n",
    "relu1 = ReLU(maxpool1)\n",
    "\n",
    "conv2 = Conv2D(kernel_shape, pad, stride, relu1, layer_id=2)\n",
    "maxpool2 = MaxPool2D(2, 0, 2, conv2) # 30x32\n",
    "relu2 = ReLU(maxpool2)\n",
    "\n",
    "conv3 = Conv2D(kernel_shape, pad, stride, relu2, layer_id=3)\n",
    "maxpool3 = MaxPool2D(2, 0, 2, conv3) # 15x16\n",
    "relu3 = ReLU(maxpool3)\n",
    "\n",
    "flatten = Flatten(relu3)\n",
    "\n",
    "linear = Linear(15*16, len(dataset.keys), flatten)\n",
    "softmax_layer = Softmax(linear)\n",
    "loss_layer = CrossEntropy(softmax_layer)\n",
    "\n",
    "model = NeuralNetwork(conv1, softmax_layer, loss_layer)"
   ]
  },
  {
   "cell_type": "code",
   "execution_count": 10,
   "metadata": {},
   "outputs": [
    {
     "data": {
      "text/plain": [
       "(1, 1, 3, 3)"
      ]
     },
     "execution_count": 10,
     "metadata": {},
     "output_type": "execute_result"
    }
   ],
   "source": [
    "kernel_shape.shape"
   ]
  },
  {
   "cell_type": "code",
   "execution_count": 11,
   "metadata": {},
   "outputs": [
    {
     "name": "stdout",
     "output_type": "stream",
     "text": [
      "Forward order:\n",
      "Conv2D 1: (1, 1, 3, 3), pad=1, stride=1\n",
      "MaxPool2D: (2, 2), pad=0, stride=2\n",
      "ReLU\n",
      "Conv2D 2: (1, 1, 3, 3), pad=1, stride=1\n",
      "MaxPool2D: (2, 2), pad=0, stride=2\n",
      "ReLU\n",
      "Conv2D 3: (1, 1, 3, 3), pad=1, stride=1\n",
      "MaxPool2D: (2, 2), pad=0, stride=2\n",
      "ReLU\n",
      "Flatten\n",
      "Linear: (240, 1) -> (4, 1)\n",
      "Softmax\n",
      "CrossEntropy\n",
      "\n",
      "Backward order:\n",
      "CrossEntropy\n",
      "Softmax\n",
      "Linear: (240, 1) -> (4, 1)\n",
      "Flatten\n",
      "ReLU\n",
      "MaxPool2D: (2, 2), pad=0, stride=2\n",
      "Conv2D 3: (1, 1, 3, 3), pad=1, stride=1\n",
      "ReLU\n",
      "MaxPool2D: (2, 2), pad=0, stride=2\n",
      "Conv2D 2: (1, 1, 3, 3), pad=1, stride=1\n",
      "ReLU\n",
      "MaxPool2D: (2, 2), pad=0, stride=2\n",
      "Conv2D 1: (1, 1, 3, 3), pad=1, stride=1\n"
     ]
    }
   ],
   "source": [
    "print(\"Forward order:\")\n",
    "for layer in model._forward_order:\n",
    "    print(layer)\n",
    "\n",
    "print(\"\\nBackward order:\")\n",
    "for layer in model._backward_order:\n",
    "    print(layer)"
   ]
  },
  {
   "cell_type": "code",
   "execution_count": 12,
   "metadata": {},
   "outputs": [
    {
     "name": "stderr",
     "output_type": "stream",
     "text": [
      "  0%|          | 0/50 [00:00<?, ?it/s]"
     ]
    },
    {
     "name": "stderr",
     "output_type": "stream",
     "text": [
      "[0.00229426]: 100%|██████████| 50/50 [02:54<00:00,  3.49s/it]\n"
     ]
    }
   ],
   "source": [
    "loss_array = []\n",
    "pbar = tqdm(range(50))\n",
    "for i in pbar:\n",
    "    epoch_loss = 0\n",
    "    for data, label in train:\n",
    "        #data = data.reshape(-1, 1)\n",
    "        out = model.forward(data)\n",
    "        #print(out)\n",
    "        loss = model.loss_layer.forward(out, label)\n",
    "        epoch_loss += loss\n",
    "        model.backward()\n",
    "        model.step()\n",
    "    epoch_loss = epoch_loss / len(train)\n",
    "    loss_array.append(epoch_loss)\n",
    "    pbar.set_description(str(epoch_loss))"
   ]
  },
  {
   "cell_type": "code",
   "execution_count": 13,
   "metadata": {},
   "outputs": [
    {
     "data": {
      "image/png": "[encoded data removed]",
      "text/plain": [
       "<Figure size 640x480 with 1 Axes>"
      ]
     },
     "metadata": {},
     "output_type": "display_data"
    }
   ],
   "source": [
    "plt.plot(loss_array[:50])\n",
    "plt.title(\"Average loss per epoch\")\n",
    "plt.xlabel(\"Epoch\")\n",
    "plt.ylabel(\"Average Loss\")\n",
    "plt.grid()"
   ]
  },
  {
   "cell_type": "code",
   "execution_count": 14,
   "metadata": {},
   "outputs": [],
   "source": [
    "unique, counts = np.unique(dataset.label, return_counts=True)"
   ]
  },
  {
   "cell_type": "code",
   "execution_count": 15,
   "metadata": {},
   "outputs": [
    {
     "name": "stdout",
     "output_type": "stream",
     "text": [
      "['left' 'right' 'straight' 'up']\n",
      "[157 155 156 156]\n"
     ]
    }
   ],
   "source": [
    "print(dataset.keys[unique])\n",
    "print(counts)"
   ]
  },
  {
   "cell_type": "code",
   "execution_count": 18,
   "metadata": {},
   "outputs": [
    {
     "ename": "AttributeError",
     "evalue": "'Image' object has no attribute 'shape'",
     "output_type": "error",
     "traceback": [
      "\u001b[1;31m---------------------------------------------------------------------------\u001b[0m",
      "\u001b[1;31mAttributeError\u001b[0m                            Traceback (most recent call last)",
      "Cell \u001b[1;32mIn[18], line 4\u001b[0m\n\u001b[0;32m      2\u001b[0m my_img \u001b[38;5;241m=\u001b[39m Image\u001b[38;5;241m.\u001b[39mopen(\u001b[38;5;124m\"\u001b[39m\u001b[38;5;124mtest/woman_straight.jpg\u001b[39m\u001b[38;5;124m\"\u001b[39m)\u001b[38;5;241m.\u001b[39mconvert(\u001b[38;5;124m\"\u001b[39m\u001b[38;5;124mL\u001b[39m\u001b[38;5;124m\"\u001b[39m)\n\u001b[0;32m      3\u001b[0m \u001b[38;5;66;03m#my_img = np.array(my_img).reshape(-1, 1)\u001b[39;00m\n\u001b[1;32m----> 4\u001b[0m \u001b[43mmy_img\u001b[49m\u001b[38;5;241;43m.\u001b[39;49m\u001b[43mshape\u001b[49m\n",
      "\u001b[1;31mAttributeError\u001b[0m: 'Image' object has no attribute 'shape'"
     ]
    }
   ],
   "source": [
    "from PIL import Image\n",
    "my_img = Image.open(\"test/woman_straight.jpg\").convert(\"L\")\n",
    "my_img = np.array(my_img)#.reshape(-1, 1)\n",
    "my_img.shape"
   ]
  },
  {
   "cell_type": "code",
   "execution_count": 17,
   "metadata": {},
   "outputs": [
    {
     "ename": "ValueError",
     "evalue": "not enough values to unpack (expected 4, got 2)",
     "output_type": "error",
     "traceback": [
      "\u001b[1;31m---------------------------------------------------------------------------\u001b[0m",
      "\u001b[1;31mValueError\u001b[0m                                Traceback (most recent call last)",
      "Cell \u001b[1;32mIn[17], line 1\u001b[0m\n\u001b[1;32m----> 1\u001b[0m \u001b[43mmodel\u001b[49m\u001b[38;5;241;43m.\u001b[39;49m\u001b[43mforward\u001b[49m\u001b[43m(\u001b[49m\u001b[43mmy_img\u001b[49m\u001b[43m)\u001b[49m\n",
      "File \u001b[1;32mf:\\repos\\face_orientation_585\\neural_network\\net.py:27\u001b[0m, in \u001b[0;36mNeuralNetwork.forward\u001b[1;34m(self, x)\u001b[0m\n\u001b[0;32m     26\u001b[0m \u001b[38;5;28;01mdef\u001b[39;00m \u001b[38;5;21mforward\u001b[39m(\u001b[38;5;28mself\u001b[39m, x: np\u001b[38;5;241m.\u001b[39mndarray):\n\u001b[1;32m---> 27\u001b[0m     \u001b[38;5;28;43mself\u001b[39;49m\u001b[38;5;241;43m.\u001b[39;49m\u001b[43mroot_layer\u001b[49m\u001b[38;5;241;43m.\u001b[39;49m\u001b[43mforward\u001b[49m\u001b[43m(\u001b[49m\u001b[43mx\u001b[49m\u001b[43m)\u001b[49m\n\u001b[0;32m     28\u001b[0m     \u001b[38;5;28;01mfor\u001b[39;00m layer \u001b[38;5;129;01min\u001b[39;00m \u001b[38;5;28mself\u001b[39m\u001b[38;5;241m.\u001b[39m_forward_order[\u001b[38;5;241m1\u001b[39m:]:\n\u001b[0;32m     29\u001b[0m         \u001b[38;5;28;01mif\u001b[39;00m \u001b[38;5;129;01mnot\u001b[39;00m \u001b[38;5;28misinstance\u001b[39m(layer, Loss): \u001b[38;5;66;03m# regular layer\u001b[39;00m\n",
      "File \u001b[1;32mf:\\repos\\face_orientation_585\\neural_network\\layer.py:127\u001b[0m, in \u001b[0;36mConv2D.forward\u001b[1;34m(self, x)\u001b[0m\n\u001b[0;32m    118\u001b[0m \u001b[38;5;28;01mdef\u001b[39;00m \u001b[38;5;21mforward\u001b[39m(\u001b[38;5;28mself\u001b[39m, x):\n\u001b[0;32m    119\u001b[0m \u001b[38;5;250m    \u001b[39m\u001b[38;5;124;03m\"\"\"\u001b[39;00m\n\u001b[0;32m    120\u001b[0m \u001b[38;5;124;03m        Performs a forward convolution.\u001b[39;00m\n\u001b[0;32m    121\u001b[0m \n\u001b[1;32m   (...)\u001b[0m\n\u001b[0;32m    125\u001b[0m \u001b[38;5;124;03m        - out: previous layer convolved.\u001b[39;00m\n\u001b[0;32m    126\u001b[0m \u001b[38;5;124;03m    \"\"\"\u001b[39;00m\n\u001b[1;32m--> 127\u001b[0m     batch_size, in_channels, in_height, in_width \u001b[38;5;241m=\u001b[39m x\u001b[38;5;241m.\u001b[39mshape\n\u001b[0;32m    129\u001b[0m     out_channels \u001b[38;5;241m=\u001b[39m \u001b[38;5;28mself\u001b[39m\u001b[38;5;241m.\u001b[39mnum_filters\n\u001b[0;32m    130\u001b[0m     out_height \u001b[38;5;241m=\u001b[39m ((in_height \u001b[38;5;241m+\u001b[39m \u001b[38;5;241m2\u001b[39m \u001b[38;5;241m*\u001b[39m \u001b[38;5;28mself\u001b[39m\u001b[38;5;241m.\u001b[39mpad \u001b[38;5;241m-\u001b[39m \u001b[38;5;28mself\u001b[39m\u001b[38;5;241m.\u001b[39mkernel_size) \u001b[38;5;241m/\u001b[39m\u001b[38;5;241m/\u001b[39m \u001b[38;5;28mself\u001b[39m\u001b[38;5;241m.\u001b[39mstride) \u001b[38;5;241m+\u001b[39m \u001b[38;5;241m1\u001b[39m\n",
      "\u001b[1;31mValueError\u001b[0m: not enough values to unpack (expected 4, got 2)"
     ]
    }
   ],
   "source": [
    "model.forward(my_img)"
   ]
  }
 ],
 "metadata": {
  "kernelspec": {
   "display_name": "torch",
   "language": "python",
   "name": "python3"
  },
  "language_info": {
   "codemirror_mode": {
    "name": "ipython",
    "version": 3
   },
   "file_extension": ".py",
   "mimetype": "text/x-python",
   "name": "python",
   "nbconvert_exporter": "python",
   "pygments_lexer": "ipython3",
   "version": "3.10.13"
  }
 },
 "nbformat": 4,
 "nbformat_minor": 2
}
