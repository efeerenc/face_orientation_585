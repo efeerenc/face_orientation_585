{
 "cells": [
  {
   "cell_type": "code",
   "execution_count": 1,
   "metadata": {},
   "outputs": [],
   "source": [
    "import numpy as np\n",
    "from neural_network.layer import *\n",
    "from neural_network.net import *\n",
    "from queue import Queue\n",
    "import matplotlib.pyplot as plt\n",
    "from tqdm import tqdm\n",
    "from neural_network.trainutils import Dataset, PCADataset, train_test_split\n",
    "import os\n",
    "import seaborn as sns"
   ]
  },
  {
   "cell_type": "code",
   "execution_count": 2,
   "metadata": {},
   "outputs": [],
   "source": [
    "num_epochs = 2500\n",
    "linear_layer_downscale_factor=2\n",
    "file_name = \"hd_pca_epoch2500\""
   ]
  },
  {
   "cell_type": "code",
   "execution_count": 3,
   "metadata": {},
   "outputs": [],
   "source": [
    "current_dir = os.getcwd()\n",
    "face_dir = os.path.join(current_dir, \"cmu+face+images\", \"faces\")\n",
    "dataset = PCADataset(face_dir)"
   ]
  },
  {
   "cell_type": "code",
   "execution_count": 4,
   "metadata": {},
   "outputs": [
    {
     "name": "stdout",
     "output_type": "stream",
     "text": [
      "68\n"
     ]
    }
   ],
   "source": [
    "input_shape = dataset[0][0].shape[-2]\n",
    "print(input_shape)"
   ]
  },
  {
   "cell_type": "code",
   "execution_count": 5,
   "metadata": {},
   "outputs": [],
   "source": [
    "train, validation, test = train_test_split(dataset, (0.8, 0.0, 0.2))"
   ]
  },
  {
   "cell_type": "code",
   "execution_count": 6,
   "metadata": {},
   "outputs": [],
   "source": [
    "linear1 = Linear(input_shape, input_shape//linear_layer_downscale_factor)\n",
    "relu1 = ReLU(linear1)\n",
    "linear2 = Linear(input_shape//linear_layer_downscale_factor, input_shape//linear_layer_downscale_factor**2, relu1)\n",
    "relu2 = ReLU(linear2)\n",
    "linear3 = Linear(input_shape//linear_layer_downscale_factor**2, input_shape//linear_layer_downscale_factor**3, relu2)\n",
    "relu3 = ReLU(linear3)\n",
    "linear4 = Linear(input_shape//linear_layer_downscale_factor**3, input_shape//linear_layer_downscale_factor**4, relu3)\n",
    "relu4 = ReLU(linear4)\n",
    "linear5 = Linear(input_shape//linear_layer_downscale_factor**4, len(dataset.keys), relu4)\n",
    "softmaxlayer = Softmax(linear5)\n",
    "loss_layer = CrossEntropy(softmaxlayer)\n",
    "\n",
    "model = NeuralNetwork(linear1, softmaxlayer, loss_layer)"
   ]
  },
  {
   "cell_type": "code",
   "execution_count": 7,
   "metadata": {},
   "outputs": [
    {
     "name": "stdout",
     "output_type": "stream",
     "text": [
      "11\n",
      "Forward order:\n",
      "Linear: (68, 1) -> (34, 1)\n",
      "ReLU\n",
      "Linear: (34, 1) -> (17, 1)\n",
      "ReLU\n",
      "Linear: (17, 1) -> (8, 1)\n",
      "ReLU\n",
      "Linear: (8, 1) -> (4, 1)\n",
      "ReLU\n",
      "Linear: (4, 1) -> (4, 1)\n",
      "Softmax\n",
      "CrossEntropy\n",
      "\n",
      "Backward order:\n",
      "CrossEntropy\n",
      "Softmax\n",
      "Linear: (4, 1) -> (4, 1)\n",
      "ReLU\n",
      "Linear: (8, 1) -> (4, 1)\n",
      "ReLU\n",
      "Linear: (17, 1) -> (8, 1)\n",
      "ReLU\n",
      "Linear: (34, 1) -> (17, 1)\n",
      "ReLU\n",
      "Linear: (68, 1) -> (34, 1)\n"
     ]
    }
   ],
   "source": [
    "print(model.n_layers)\n",
    "\n",
    "print(\"Forward order:\")\n",
    "for layer in model._forward_order:\n",
    "    print(layer)\n",
    "\n",
    "print(\"\\nBackward order:\")\n",
    "for layer in model._backward_order:\n",
    "    print(layer)"
   ]
  },
  {
   "cell_type": "code",
   "execution_count": 8,
   "metadata": {},
   "outputs": [
    {
     "name": "stderr",
     "output_type": "stream",
     "text": [
      "[0]:498/499 (cur=[793.32658739], prevmean=0): : 499it [00:00, 2325.97it/s]\n",
      "[1]:206/499 (cur=[301.72098132], prevmean=[1.58983284]): : 0it [00:00, ?it/s]"
     ]
    },
    {
     "name": "stderr",
     "output_type": "stream",
     "text": [
      "[1]:498/499 (cur=[714.9852371], prevmean=[1.58983284]): : 499it [00:00, 2068.31it/s] \n",
      "[2]:498/499 (cur=[699.06364678], prevmean=[1.43283615]): : 499it [00:00, 1956.73it/s]\n",
      "[3]:498/499 (cur=[692.04453397], prevmean=[1.40092915]): : 499it [00:00, 1994.06it/s]\n",
      "[4]:498/499 (cur=[687.06066836], prevmean=[1.38686279]): : 499it [00:00, 2077.45it/s]\n",
      "[5]:498/499 (cur=[682.58048298], prevmean=[1.37687509]): : 499it [00:00, 2012.99it/s]\n",
      "[6]:498/499 (cur=[677.89920509], prevmean=[1.36789676]): : 499it [00:00, 1834.85it/s]\n",
      "[7]:498/499 (cur=[672.38375784], prevmean=[1.35851544]): : 499it [00:00, 2126.37it/s]\n",
      "[8]:498/499 (cur=[665.60405491], prevmean=[1.34746244]): : 499it [00:00, 2015.04it/s]\n",
      "[9]:498/499 (cur=[657.68854376], prevmean=[1.33387586]): : 499it [00:00, 1926.82it/s]\n",
      "[10]:498/499 (cur=[647.54164657], prevmean=[1.31801311]): : 499it [00:00, 2213.91it/s]\n",
      "[11]:498/499 (cur=[634.74661552], prevmean=[1.29767865]): : 499it [00:00, 2026.31it/s]\n",
      "[12]:498/499 (cur=[619.60876237], prevmean=[1.27203731]): : 499it [00:00, 1999.41it/s]\n",
      "[13]:498/499 (cur=[603.93162133], prevmean=[1.24170093]): : 499it [00:00, 2113.28it/s]\n",
      "[14]:498/499 (cur=[587.64181269], prevmean=[1.21028381]): : 499it [00:00, 1982.57it/s]\n",
      "[15]:498/499 (cur=[571.47192524], prevmean=[1.1776389]): : 499it [00:00, 2109.61it/s]\n",
      "[16]:498/499 (cur=[555.70537859], prevmean=[1.14523432]): : 499it [00:00, 2114.30it/s]\n",
      "[17]:498/499 (cur=[540.5511055], prevmean=[1.11363803]): : 499it [00:00, 2079.03it/s] \n",
      "[18]:498/499 (cur=[525.65953686], prevmean=[1.08326875]): : 499it [00:00, 2168.37it/s]\n",
      "[19]:498/499 (cur=[511.67081409], prevmean=[1.05342593]): : 499it [00:00, 1856.26it/s]\n",
      "[20]:498/499 (cur=[498.77438103], prevmean=[1.02539241]): : 499it [00:00, 2413.67it/s]\n",
      "[21]:498/499 (cur=[487.09092383], prevmean=[0.99954786]): : 499it [00:00, 1976.10it/s]\n",
      "[22]:498/499 (cur=[476.26283363], prevmean=[0.97613412]): : 499it [00:00, 1921.75it/s]\n",
      "[23]:498/499 (cur=[466.83101626], prevmean=[0.95443454]): : 499it [00:00, 2096.88it/s]\n",
      "[24]:498/499 (cur=[458.12633579], prevmean=[0.9355331]): : 499it [00:00, 1890.28it/s]\n",
      "[25]:498/499 (cur=[448.83585726], prevmean=[0.91808885]): : 499it [00:00, 1950.63it/s]\n",
      "[26]:498/499 (cur=[439.12900841], prevmean=[0.89947066]): : 499it [00:00, 2121.67it/s]\n",
      "[27]:498/499 (cur=[428.4357612], prevmean=[0.88001805]): : 499it [00:00, 1965.25it/s] \n",
      "[28]:498/499 (cur=[417.5272288], prevmean=[0.8585887]): : 499it [00:00, 2056.86it/s] \n",
      "[29]:498/499 (cur=[405.96087667], prevmean=[0.83672791]): : 499it [00:00, 2015.99it/s]\n",
      "[30]:498/499 (cur=[394.13337259], prevmean=[0.81354885]): : 499it [00:00, 2263.05it/s]\n",
      "[31]:498/499 (cur=[382.81500269], prevmean=[0.78984644]): : 499it [00:00, 1748.26it/s]\n",
      "[32]:498/499 (cur=[371.37002616], prevmean=[0.76716433]): : 499it [00:00, 2036.19it/s]\n",
      "[33]:498/499 (cur=[360.26671466], prevmean=[0.74422851]): : 499it [00:00, 2270.80it/s]\n",
      "[34]:498/499 (cur=[350.12149769], prevmean=[0.72197738]): : 499it [00:00, 2147.15it/s]\n",
      "[35]:498/499 (cur=[340.7146427], prevmean=[0.70164629]): : 499it [00:00, 1845.53it/s] \n",
      "[36]:498/499 (cur=[332.07162211], prevmean=[0.68279488]): : 499it [00:00, 2047.72it/s]\n",
      "[37]:498/499 (cur=[323.13550477], prevmean=[0.66547419]): : 499it [00:00, 2164.39it/s]\n",
      "[38]:498/499 (cur=[314.29820824], prevmean=[0.64756614]): : 499it [00:00, 2419.58it/s]\n",
      "[39]:498/499 (cur=[306.49447679], prevmean=[0.62985613]): : 499it [00:00, 2263.13it/s]\n",
      "[40]:498/499 (cur=[298.4416098], prevmean=[0.61421739]): : 499it [00:00, 1875.84it/s] \n",
      "[41]:498/499 (cur=[291.13231291], prevmean=[0.59807938]): : 499it [00:00, 1870.86it/s]\n",
      "[42]:498/499 (cur=[284.77966094], prevmean=[0.58343149]): : 499it [00:00, 1973.21it/s]\n",
      "[43]:498/499 (cur=[278.81000764], prevmean=[0.57070072]): : 499it [00:00, 1965.99it/s]\n",
      "[44]:498/499 (cur=[272.66639868], prevmean=[0.55873749]): : 499it [00:00, 1952.65it/s]\n",
      "[45]:498/499 (cur=[267.06111225], prevmean=[0.54642565]): : 499it [00:00, 2059.71it/s]\n",
      "[46]:498/499 (cur=[261.45821559], prevmean=[0.53519261]): : 499it [00:00, 2001.68it/s]\n",
      "[47]:498/499 (cur=[255.07214879], prevmean=[0.52396436]): : 499it [00:00, 1990.80it/s]\n",
      "[48]:498/499 (cur=[249.57375223], prevmean=[0.51116663]): : 499it [00:00, 1717.33it/s]\n",
      "[49]:498/499 (cur=[244.5461026], prevmean=[0.5001478]): : 499it [00:00, 2146.30it/s] \n",
      "[50]:498/499 (cur=[239.57347086], prevmean=[0.49007235]): : 499it [00:00, 2089.30it/s]\n",
      "[51]:498/499 (cur=[234.77730899], prevmean=[0.48010716]): : 499it [00:00, 2058.50it/s]\n",
      "[52]:498/499 (cur=[229.87637092], prevmean=[0.47049561]): : 499it [00:00, 2008.11it/s]\n",
      "[53]:498/499 (cur=[225.06314133], prevmean=[0.46067409]): : 499it [00:00, 2176.83it/s]\n",
      "[54]:498/499 (cur=[219.08181257], prevmean=[0.45102834]): : 499it [00:00, 2096.69it/s]\n",
      "[55]:498/499 (cur=[213.41136885], prevmean=[0.43904171]): : 499it [00:00, 1961.63it/s]\n",
      "[56]:498/499 (cur=[207.50200263], prevmean=[0.42767809]): : 499it [00:00, 1895.63it/s]\n",
      "[57]:498/499 (cur=[201.72972982], prevmean=[0.41583568]): : 499it [00:00, 2065.90it/s]\n",
      "[58]:498/499 (cur=[194.67004766], prevmean=[0.404268]): : 499it [00:00, 1978.00it/s]\n",
      "[59]:498/499 (cur=[187.95915627], prevmean=[0.39012034]): : 499it [00:00, 2000.44it/s]\n",
      "[60]:498/499 (cur=[179.89808937], prevmean=[0.37667166]): : 499it [00:00, 1977.85it/s]\n",
      "[61]:498/499 (cur=[172.25892999], prevmean=[0.36051721]): : 499it [00:00, 1873.20it/s]\n",
      "[62]:498/499 (cur=[164.03889952], prevmean=[0.34520828]): : 499it [00:00, 2012.65it/s]\n",
      "[63]:498/499 (cur=[155.82415669], prevmean=[0.32873527]): : 499it [00:00, 2056.60it/s]\n",
      "[64]:498/499 (cur=[146.81908866], prevmean=[0.31227286]): : 499it [00:00, 2131.25it/s]\n",
      "[65]:498/499 (cur=[138.22970848], prevmean=[0.29422663]): : 499it [00:00, 1823.29it/s]\n",
      "[66]:498/499 (cur=[130.0798622], prevmean=[0.27701344]): : 499it [00:00, 2060.80it/s] \n",
      "[67]:498/499 (cur=[122.0750954], prevmean=[0.26068109]): : 499it [00:00, 1993.20it/s] \n",
      "[68]:347/499 (cur=[76.99366365], prevmean=[0.24463947]): : 348it [00:00, 1902.69it/s]\n"
     ]
    },
    {
     "ename": "KeyboardInterrupt",
     "evalue": "",
     "output_type": "error",
     "traceback": [
      "\u001b[0;31m---------------------------------------------------------------------------\u001b[0m",
      "\u001b[0;31mKeyboardInterrupt\u001b[0m                         Traceback (most recent call last)",
      "Cell \u001b[0;32mIn[8], line 8\u001b[0m\n\u001b[1;32m      6\u001b[0m \u001b[38;5;28;01mfor\u001b[39;00m j, (data, label) \u001b[38;5;129;01min\u001b[39;00m pbar2:\n\u001b[1;32m      7\u001b[0m     data \u001b[38;5;241m=\u001b[39m data\u001b[38;5;241m.\u001b[39mreshape(\u001b[38;5;241m-\u001b[39m\u001b[38;5;241m1\u001b[39m, \u001b[38;5;241m1\u001b[39m)\n\u001b[0;32m----> 8\u001b[0m     out \u001b[38;5;241m=\u001b[39m \u001b[43mmodel\u001b[49m\u001b[38;5;241;43m.\u001b[39;49m\u001b[43mforward\u001b[49m\u001b[43m(\u001b[49m\u001b[43mdata\u001b[49m\u001b[43m)\u001b[49m\n\u001b[1;32m      9\u001b[0m     \u001b[38;5;66;03m#print(out)\u001b[39;00m\n\u001b[1;32m     10\u001b[0m     loss \u001b[38;5;241m=\u001b[39m model\u001b[38;5;241m.\u001b[39mloss_layer\u001b[38;5;241m.\u001b[39mforward(out, label)\n",
      "File \u001b[0;32m~/repos/face_orientation_585/neural_network/net.py:31\u001b[0m, in \u001b[0;36mNeuralNetwork.forward\u001b[0;34m(self, x)\u001b[0m\n\u001b[1;32m     29\u001b[0m     \u001b[38;5;28;01mif\u001b[39;00m \u001b[38;5;129;01mnot\u001b[39;00m \u001b[38;5;28misinstance\u001b[39m(layer, Loss): \u001b[38;5;66;03m# regular layer\u001b[39;00m\n\u001b[1;32m     30\u001b[0m         x_node \u001b[38;5;241m=\u001b[39m np\u001b[38;5;241m.\u001b[39mconcatenate([parent\u001b[38;5;241m.\u001b[39mout \u001b[38;5;28;01mfor\u001b[39;00m parent \u001b[38;5;129;01min\u001b[39;00m layer\u001b[38;5;241m.\u001b[39mparents], axis\u001b[38;5;241m=\u001b[39m\u001b[38;5;241m0\u001b[39m)\n\u001b[0;32m---> 31\u001b[0m         \u001b[43mlayer\u001b[49m\u001b[38;5;241;43m.\u001b[39;49m\u001b[43mforward\u001b[49m\u001b[43m(\u001b[49m\u001b[43mx_node\u001b[49m\u001b[43m)\u001b[49m\n\u001b[1;32m     34\u001b[0m \u001b[38;5;28;01mif\u001b[39;00m \u001b[38;5;28mlen\u001b[39m(\u001b[38;5;28mself\u001b[39m\u001b[38;5;241m.\u001b[39moutput_layer) \u001b[38;5;241m==\u001b[39m \u001b[38;5;241m1\u001b[39m:\n\u001b[1;32m     35\u001b[0m     \u001b[38;5;28;01mreturn\u001b[39;00m \u001b[38;5;28mself\u001b[39m\u001b[38;5;241m.\u001b[39moutput_layer[\u001b[38;5;241m0\u001b[39m]\u001b[38;5;241m.\u001b[39mout\n",
      "\u001b[0;31mKeyboardInterrupt\u001b[0m: "
     ]
    }
   ],
   "source": [
    "loss_array = []\n",
    "mean_epoch_loss = 0\n",
    "pbar = tqdm(range(num_epochs))\n",
    "for i in pbar:\n",
    "    epoch_loss = 0\n",
    "    for j, (data, label) in enumerate(train):\n",
    "        data = data.reshape(-1, 1)\n",
    "        out = model.forward(data)\n",
    "        #print(out)\n",
    "        loss = model.loss_layer.forward(out, label)\n",
    "        epoch_loss += loss\n",
    "        model.backward()\n",
    "        model.step()\n",
    "        #pbar2.set_description(f\"[{i}]:{j}/{len(train)} (cur={epoch_loss}, prevmean={mean_epoch_loss})\")\n",
    "    mean_epoch_loss = epoch_loss / len(train)\n",
    "    #pbar2.set_postfix(mean_epoch_loss)\n",
    "    loss_array.append(mean_epoch_loss)\n",
    "    pbar.set_description(float(epoch_loss))"
   ]
  },
  {
   "cell_type": "code",
   "execution_count": null,
   "metadata": {},
   "outputs": [
    {
     "data": {
      "image/png": "[encoded data removed]",
      "text/plain": [
       "<Figure size 640x480 with 1 Axes>"
      ]
     },
     "metadata": {},
     "output_type": "display_data"
    }
   ],
   "source": [
    "plt.plot(loss_array)\n",
    "plt.grid()\n",
    "plt.title(\"Average loss per epoch\")\n",
    "plt.xlabel(\"Epoch\")\n",
    "plt.ylabel(\"Average loss\")\n",
    "plt.savefig(f\"plots/{file_name}_loss.pdf\", format=\"pdf\", bbox_inches=\"tight\")"
   ]
  },
  {
   "cell_type": "code",
   "execution_count": null,
   "metadata": {},
   "outputs": [
    {
     "name": "stdout",
     "output_type": "stream",
     "text": [
      "accuracy: 1.0\n"
     ]
    },
    {
     "data": {
      "image/png": "[encoded data removed]",
      "text/plain": [
       "<Figure size 640x480 with 1 Axes>"
      ]
     },
     "metadata": {},
     "output_type": "display_data"
    }
   ],
   "source": [
    "confusion_matrix = np.zeros(shape=[len(dataset.keys)]*2)\n",
    "for data, label in train:\n",
    "    data = data.reshape(-1, 1)\n",
    "    out = model.forward(data)\n",
    "    #print(out)\n",
    "    loss = model.loss_layer.forward(out, label)\n",
    "    confusion_matrix[np.argmax(label), np.argmax(out)] += 1\n",
    "    epoch_loss += loss\n",
    "print(f\"accuracy: {confusion_matrix.trace()/confusion_matrix.sum()}\")\n",
    "\n",
    "plt.figure()\n",
    "sns.heatmap(confusion_matrix.astype(int), annot=True, cbar=False, xticklabels=dataset.keys, yticklabels=dataset.keys, cmap=\"YlGnBu\", fmt=\"2d\")\n",
    "plt.xlabel(\"Prediction\")\n",
    "plt.ylabel(\"Ground truth\")\n",
    "#plt.title(f\"\")\n",
    "plt.show()\n",
    "plt.savefig(f\"plots/{file_name}_train_confmat.pdf\", format=\"pdf\", bbox_inches=\"tight\")"
   ]
  },
  {
   "cell_type": "code",
   "execution_count": null,
   "metadata": {},
   "outputs": [
    {
     "name": "stdout",
     "output_type": "stream",
     "text": [
      "accuracy: 0.952\n"
     ]
    },
    {
     "data": {
      "image/png": "[encoded data removed]",
      "text/plain": [
       "<Figure size 640x480 with 1 Axes>"
      ]
     },
     "metadata": {},
     "output_type": "display_data"
    }
   ],
   "source": [
    "confusion_matrix = np.zeros(shape=[len(dataset.keys)]*2)\n",
    "for data, label in test:\n",
    "    data = data.reshape(-1, 1)\n",
    "    out = model.forward(data)\n",
    "    #print(out)\n",
    "    loss = model.loss_layer.forward(out, label)\n",
    "    confusion_matrix[np.argmax(label), np.argmax(out)] += 1\n",
    "    epoch_loss += loss\n",
    "print(f\"accuracy: {confusion_matrix.trace()/confusion_matrix.sum()}\")\n",
    "\n",
    "plt.figure()\n",
    "sns.heatmap(confusion_matrix.astype(int), annot=True, cbar=False, xticklabels=dataset.keys, yticklabels=dataset.keys, cmap=\"YlGnBu\", fmt=\"2d\")\n",
    "plt.xlabel(\"Predicted\")\n",
    "plt.ylabel(\"Ground truth\")\n",
    "#plt.title(f\"test NN confusion matrix\")\n",
    "plt.show()\n",
    "plt.savefig(f\"plots/{file_name}_test_confmat.pdf\", format=\"pdf\", bbox_inches=\"tight\")"
   ]
  },
  {
   "cell_type": "code",
   "execution_count": null,
   "metadata": {},
   "outputs": [],
   "source": [
    "import pickle"
   ]
  },
  {
   "cell_type": "code",
   "execution_count": null,
   "metadata": {},
   "outputs": [],
   "source": [
    "with open(f\"bin/{file_name}.pickle\", \"wb\") as file:\n",
    "    pickle.dump(model, file, protocol=pickle.HIGHEST_PROTOCOL)\n"
   ]
  },
  {
   "cell_type": "code",
   "execution_count": null,
   "metadata": {},
   "outputs": [],
   "source": [
    "with open(f\"bin/{file_name}.pickle\", \"wb\") as file:\n",
    "    pickle.dump(loss_array, file, protocol=pickle.HIGHEST_PROTOCOL)"
   ]
  },
  {
   "cell_type": "code",
   "execution_count": null,
   "metadata": {},
   "outputs": [
    {
     "name": "stdout",
     "output_type": "stream",
     "text": [
      "[array([0.73233082]), array([0.15178772]), array([0.09397095]), array([0.0388785]), array([0.01001533]), array([0.00564794]), array([0.00435584]), array([0.00351416]), array([0.00294721]), array([0.00253766]), array([0.00222097]), array([0.00197575]), array([0.00177682]), array([0.00161704]), array([0.00148068]), array([0.00136495]), array([0.00126735]), array([0.00117987]), array([0.00110405]), array([0.0010379]), array([0.0009776]), array([0.00092311]), array([0.00087412])]\n"
     ]
    }
   ],
   "source": [
    "print(loss_array[:-2])"
   ]
  }
 ],
 "metadata": {
  "kernelspec": {
   "display_name": "torch",
   "language": "python",
   "name": "python3"
  },
  "language_info": {
   "codemirror_mode": {
    "name": "ipython",
    "version": 3
   },
   "file_extension": ".py",
   "mimetype": "text/x-python",
   "name": "python",
   "nbconvert_exporter": "python",
   "pygments_lexer": "ipython3",
   "version": "3.10.13"
  }
 },
 "nbformat": 4,
 "nbformat_minor": 2
}
