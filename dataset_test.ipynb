{
 "cells": [
  {
   "cell_type": "code",
   "execution_count": 1,
   "metadata": {},
   "outputs": [],
   "source": [
    "import numpy as np\n",
    "from neural_network.layer import *\n",
    "from neural_network.net import *\n",
    "from queue import Queue\n",
    "import matplotlib.pyplot as plt\n",
    "from tqdm import tqdm\n",
    "from neural_network.trainutils import Dataset, train_test_split\n",
    "import os"
   ]
  },
  {
   "cell_type": "code",
   "execution_count": 3,
   "metadata": {},
   "outputs": [],
   "source": [
    "current_dir = os.getcwd()\n",
    "face_dir = os.path.join(current_dir, \"cmu+face+images\", \"faces\")\n",
    "dataset = Dataset(face_dir)"
   ]
  },
  {
   "cell_type": "code",
   "execution_count": 4,
   "metadata": {},
   "outputs": [
    {
     "data": {
      "text/plain": [
       "(624, 30, 32)"
      ]
     },
     "execution_count": 4,
     "metadata": {},
     "output_type": "execute_result"
    }
   ],
   "source": [
    "dataset.data.shape"
   ]
  },
  {
   "cell_type": "code",
   "execution_count": 5,
   "metadata": {},
   "outputs": [],
   "source": [
    "train, validation, test = train_test_split(dataset, (0.8, 0.0, 0.2))"
   ]
  },
  {
   "cell_type": "code",
   "execution_count": 6,
   "metadata": {},
   "outputs": [
    {
     "data": {
      "text/plain": [
       "(array([ 78,  59,  75,  77,  69,  67,  65,  62,  59,  56,  52,  49,  46,\n",
       "         42,  41,  38,  36,  42,  31,  39,  36,  33,  39,  39,  41,  42,\n",
       "         46,  46,  49,  52,  54,  56,  49,   7,  34,  44,  28,  67,  64,\n",
       "         60,  59,  57,  54,  51,  49,  44,  42,  39,  39,  46,  36,  42,\n",
       "         39,  36,  41,  42,  44,  46,  47,  49,  51,  54,  56,  56,  59,\n",
       "          7,  26,  38,   7,  56,  62,  60,  59,  57,  54,  52,  49,  47,\n",
       "         44,  42,  41,  47,  38,  44,  42,  38,  44,  46,  46,  47,  49,\n",
       "         51,  52,  54,  56,  57,  42,  41,  49,  44,  28,  59,  62,  60,\n",
       "         59,  57,  56,  52,  51,  49,  46,  44,  44,  47,  39,  42,  44,\n",
       "         41,  47,  47,  49,  51,  51,  52,  56,  57,  56,  57,  44,  38,\n",
       "         44,  41,  34,  39,  46,  52,  60,  57,  56,  54,  52,  51,  47,\n",
       "         41,  21,  13,  10,  16,  20,  26,  41,  49,  51,  52,  54,  54,\n",
       "         56,  57,  57,  57,  38,  10,  36,  72,  64,  62,  60,  39,  60,\n",
       "         67,  64,  57,  54,  57,  31,  18,   7,   8,   8,   5,   5,   7,\n",
       "          7,  18,  36,  52,  54,  56,  56,  57,  57,  57,  21,  23,  28,\n",
       "         39,   7,  39,  46,  46,  57,  41,  42,  21,  31,  31,  33,  18,\n",
       "         16,  15,  10,  11,  10,   8,  11,  11,  25,  52,  57,  57,  57,\n",
       "         57,  59,  59,  20,  34,  26,  44,   8,  25,   5,  33,   2,   8,\n",
       "         10,  15,  33,  54,  44,  33,  42,  29,  18,  18,  13,  13,  20,\n",
       "         20,  34,  52,  59,  62,  62,  62,  62,  62,  23,  29,  29,  47,\n",
       "         38,  52,  34,  36,   3,  28,  36,  54,  31,  64,  44,  46,  51,\n",
       "         47,  41,  28,  21,  21,  34,  42,  44,  57,  59,  62,  62,  60,\n",
       "         52,  49,  49,  34,  21,  38,   5,  57,  33,  46,  60,  54,  60,\n",
       "         62,  36,  56,  44,  41,  41,  44,  46,  34,  29,  28,  44,  59,\n",
       "         80,  42,  46,  44,  44,  46,  44,  52,  44,  49,  25,  44,   0,\n",
       "         39,  13,  41,  49,  41,  23,  52,  31,  51,  54,  42,  36,  46,\n",
       "         52,  42,  18,  23,  44,  88, 118,  39,  39,  44,  28,  26,  44,\n",
       "         62,   7,  26,  56,  56,  23,  44,  15,  41,   5,  10,  29,  62,\n",
       "         31,  41,  47,  38,  36,  49,  41,  47,  25,  26,  85, 162, 152,\n",
       "         36,  26,   5,   7,  29,  54,  62,  77,  47,  21,  25,  21,  42,\n",
       "         34,  56,  10,  34,  52,  54,  36,  52,  52,  36,  31,  33,  38,\n",
       "        105, 170, 185, 185, 101, 100,  60,  47,   3,  44,  60,  62,  64,\n",
       "         13,  41,  11,  20,  11,  42,  11,  56,  62,  69,  36,  44,  39,\n",
       "         39,  95, 121,  69,  44,  56, 178, 242, 224, 173, 119, 142,  62,\n",
       "         28,   2,  34,  60,  64,  62,  44,  42,  10,  31,  28,  46,  13,\n",
       "         56,  60,  59,  25,  38,  29,  10, 170, 216, 170, 124,  96, 214,\n",
       "        244, 226, 216, 162, 190,  34,   8,   0,   7,  44,  64,  62,   3,\n",
       "         70,  64,  52,  64,  57,  56,  54,  52,  57,  16,  28,  10,  28,\n",
       "        159, 222, 196, 235, 227, 240, 242, 239, 211, 175, 208, 144,  15,\n",
       "          7,  16,  41,  60,  62,   3,  26,  11,  29,  44,   0,   0,   0,\n",
       "          0,  34,  29,  15,  11,  47, 123, 227, 206, 240, 235, 240, 242,\n",
       "        242, 222, 186, 212, 214,  74,  72,  88,  90,  49,  29,  26,  26,\n",
       "         21,  29,  49,   0,   0,   2,   2,  29,  29,  13,  21,  39, 105,\n",
       "        206, 240, 224, 239, 242, 242, 242, 230, 190, 186, 185,  90,  49,\n",
       "         38,  47,  41,  16,   8,  28,  23,  28,  47,   2,   0,   0,   0,\n",
       "         23,  23,  18,  21,  23,  64, 177, 209, 204, 237, 244, 242, 242,\n",
       "        230, 191, 186,  78,  31,  36,  36,  47,  21,  10,  15,  31,  15,\n",
       "         25,  47,   3,   0,   0,   0,  20,  47,  41,  25,  20,  69, 206,\n",
       "        219, 199, 227, 239, 230, 234, 222, 157, 159,  25,  57,  36,  39,\n",
       "         49,  23,   3,  29,  34,  16,  20,  44,   3,   0,   0,   0,  16,\n",
       "         49,  46,  33, 131, 199, 229, 227, 188, 208, 219, 221, 219, 193,\n",
       "        177, 100,  18,  47,  36,  42,  49,  23,   0,  29,  25,   5,  16,\n",
       "         42,  31,  33,  36,  36,  41,  46,  39,  57, 196, 219, 237, 244,\n",
       "        224, 185, 188, 203, 209, 198, 178,  56,  87,  59,  16,  25,  46,\n",
       "         23,   0,  33,  16,   0,   3,  15,  18,  29,  52,   2,   5,   8,\n",
       "         49, 137, 203, 212, 239, 239, 221, 199, 173, 167, 193, 204, 183,\n",
       "        152, 145,  87,  11,   8,  23,  10,   2,  16,   7,   2,   7,  10,\n",
       "         21,  41,  38,  21,   8,  16,  70, 170, 204, 203, 234, 232, 232,\n",
       "        222, 178, 103, 100, 136, 134, 239, 134,  44,  23,   7,   2,   0,\n",
       "          0,  13,   3,   0,   5,  13,  26,  44,  23,  70,  75,  67,  83,\n",
       "        134, 199, 199, 230, 232, 232, 219, 144,  10,  44,  57, 103, 235,\n",
       "        141,  41,  26,   8,   0,   0,   0,  16,   3,   0,  15,  16,  28,\n",
       "         41,  74, 111, 101,  77, 113,  75, 190, 199, 226, 226, 212, 180,\n",
       "        113,  44,  67,  38,  62,  65,  88,  39,  26,  10,   0,   0,   0,\n",
       "          0,  13,   2,   5,  11,  67,  93,  92, 103,  95,  54,  85,  92,\n",
       "        113, 196, 212, 221, 190, 155,  92,  52,  38,  52,  46,  78,  78,\n",
       "         92,  46,  10,   0,   0,   0,   0,   0,   0,  28,  88,  96,  87,\n",
       "        100,  98, 105,  59, 108, 108,  78, 147, 203, 199, 168, 128,  78,\n",
       "         65,  60,  56,  64,  93,  98,  85,  93,  44,   2,   0,   0,   3,\n",
       "          3,  15,  82,  69,  72,  80,  75,  93,  83,  52,  64,  78,  67,\n",
       "         93, 183, 183, 181, 100,  75,  57,  46,  46,  46,  80,  64,  62,\n",
       "         72,  83,  26,   0,   0,   0,  11,  46,  93,  87, 105, 103,  98,\n",
       "         98,  98,  95,  75,  54,  46,  88, 123, 188, 163,  59,  52,  59,\n",
       "         65,  62,  70, 103,  82,  87,  98,  64,  52,   5,   0], dtype=uint8),\n",
       " array([[1.],\n",
       "        [0.],\n",
       "        [0.],\n",
       "        [0.]]))"
      ]
     },
     "execution_count": 6,
     "metadata": {},
     "output_type": "execute_result"
    }
   ],
   "source": [
    "dataset[500]"
   ]
  },
  {
   "cell_type": "code",
   "execution_count": 7,
   "metadata": {},
   "outputs": [
    {
     "data": {
      "text/plain": [
       "960"
      ]
     },
     "execution_count": 7,
     "metadata": {},
     "output_type": "execute_result"
    }
   ],
   "source": [
    "input_shape = train[0][0].shape[0]\n",
    "input_shape"
   ]
  },
  {
   "cell_type": "code",
   "execution_count": 8,
   "metadata": {},
   "outputs": [
    {
     "data": {
      "text/plain": [
       "(array([ 1.61946720e-01, -2.44409930e-01, -7.74316491e-01, -9.31632133e-01,\n",
       "        -8.32265896e-01, -9.54374763e-01, -1.11846419e+00, -1.18376015e+00,\n",
       "        -9.12663107e-01, -8.53033083e-01, -8.10587771e-01, -1.05015827e+00,\n",
       "        -7.75663868e-01, -8.92452850e-01, -5.96677134e-01, -8.69459503e-01,\n",
       "        -1.05380900e+00, -9.57178999e-01, -7.54239230e-01, -7.06780709e-01,\n",
       "        -8.26694542e-01, -9.58123521e-01, -8.04099635e-01, -7.92006123e-01,\n",
       "        -8.16026635e-01, -5.58906786e-01, -5.12507050e-01, -4.18740642e-01,\n",
       "        -3.74734319e-01, -4.46618727e-01, -4.86676377e-01, -3.89681335e-01,\n",
       "         8.98373138e-02, -2.99632590e-01, -2.96796478e-01, -5.05246248e-01,\n",
       "        -9.45218231e-01, -9.63517786e-01, -8.77227902e-01, -9.69123485e-01,\n",
       "        -9.05823856e-01, -1.04696081e+00, -1.07392244e+00, -9.13192366e-01,\n",
       "        -8.03864989e-01, -9.49319532e-01, -5.22731879e-01, -7.65010839e-01,\n",
       "        -1.19357327e+00, -1.31046148e+00, -7.45457669e-01, -7.81647118e-01,\n",
       "        -7.70985296e-01, -7.54165348e-01, -5.59326373e-01, -4.47227600e-01,\n",
       "        -2.42082380e-01, -1.57173640e-01, -2.88979228e-01, -2.22562382e-01,\n",
       "        -3.71641631e-01, -5.12344505e-01, -3.91034689e-01, -4.63123186e-01,\n",
       "        -1.09374798e-01, -3.63667159e-01, -2.11245015e-01, -1.67673445e-01,\n",
       "        -4.52657935e-01, -6.93130199e-01, -8.61404547e-01, -7.07854038e-01,\n",
       "        -7.96503179e-01, -9.62864346e-01, -9.19826056e-01, -7.46631369e-01,\n",
       "        -7.50879286e-01, -1.35263023e+00, -8.27175503e-01, -9.03592232e-01,\n",
       "        -1.29776830e+00, -1.05224890e+00, -6.35053984e-01, -6.17534126e-01,\n",
       "        -7.26104741e-01, -5.37422956e-01, -4.73297230e-01, -4.40647684e-01,\n",
       "        -4.10081399e-01, -4.53377347e-01, -4.25937708e-01, -3.05416738e-01,\n",
       "        -3.05123350e-01, -4.54704719e-01, -4.49320797e-01, -5.11272980e-01,\n",
       "         1.71313485e-01, -2.58324701e-01, -2.32647362e-01, -1.86606691e-01,\n",
       "        -3.43748926e-01, -6.13721097e-01, -7.66946281e-01, -5.53505398e-01,\n",
       "        -8.47486386e-01, -1.10778534e+00, -7.44688853e-01, -6.08428354e-01,\n",
       "        -4.85342945e-01, -1.05298072e+00, -3.21288375e-01, -5.00067779e-01,\n",
       "        -7.80110991e-01, -6.58542367e-01, -5.95288931e-01, -5.77124650e-01,\n",
       "        -3.69610149e-01, -3.50376190e-01, -4.98976179e-01, -5.48675030e-01,\n",
       "        -4.43720701e-01, -2.37837151e-01, -3.21057707e-01, -4.76104335e-01,\n",
       "        -3.66354608e-01, -5.05488763e-01, -3.52787124e-01, -3.75581330e-01,\n",
       "         3.09996938e-01, -1.35791179e-01, -1.51885428e-01, -5.08414189e-02,\n",
       "        -7.34728946e-02, -3.23124204e-01, -3.84615908e-01, -2.98693420e-01,\n",
       "        -3.07668751e-01, -5.38530154e-01, -4.68222560e-01, -3.41626374e-01,\n",
       "        -6.07348168e-02, -4.55760040e-01,  4.16171939e-02, -1.52397742e-02,\n",
       "        -1.99459263e-01, -8.33667321e-02,  6.25887362e-02, -1.04585163e-01,\n",
       "        -1.74401495e-01, -2.57995824e-01, -4.12269670e-01, -2.89535730e-01,\n",
       "        -2.05265789e-01, -1.31321620e-01, -8.68815310e-03, -2.30806235e-01,\n",
       "        -2.06893557e-01, -3.75343659e-01, -2.20566888e-01, -3.72204243e-01,\n",
       "         4.43466624e-01,  1.74496735e-01,  3.92825750e-02, -1.82034462e-01,\n",
       "        -2.49072989e-01, -1.72885731e-01, -1.96299489e-01, -2.22350971e-02,\n",
       "        -1.79188725e-01, -1.51401463e-01, -2.36278828e-01, -3.07827938e-02,\n",
       "         2.38655363e-01, -1.03426906e-01,  1.59565109e-01,  6.99069323e-02,\n",
       "         3.48806908e-02,  8.01898178e-02,  2.34434299e-01,  1.29397070e-01,\n",
       "         2.36147110e-02, -5.27763678e-02, -1.65979644e-01, -6.30311954e-02,\n",
       "        -2.06348545e-01, -6.29789978e-02, -4.34879639e-02, -1.00933606e-01,\n",
       "        -1.62525765e-01, -1.72679110e-01, -3.09690879e-01, -3.05743842e-01,\n",
       "         3.64064051e-01,  2.87151976e-01,  3.78344972e-01,  2.50692242e-01,\n",
       "         2.93558530e-01,  2.47949872e-01, -5.46127003e-02, -1.93327074e-02,\n",
       "         8.62628319e-02,  1.17286520e-03, -7.27539039e-02,  1.43277856e-01,\n",
       "         3.38271917e-01, -5.14386412e-02, -1.15348831e-01, -2.21594519e-01,\n",
       "        -1.49337018e-01, -4.78961565e-02,  1.13175590e-01,  2.12813776e-01,\n",
       "         2.23664334e-01,  1.85844343e-01,  5.93755030e-02,  4.60367524e-02,\n",
       "        -5.68338350e-03, -3.26496861e-03, -1.68017021e-02, -3.19350155e-02,\n",
       "        -3.21919471e-02, -5.43870597e-02, -2.38621455e-01, -2.30404953e-01,\n",
       "         2.29916630e-01,  2.07469931e-01,  4.63166784e-01,  4.59145466e-01,\n",
       "         3.54042016e-01,  3.28931483e-01,  2.07435874e-01,  4.63710639e-01,\n",
       "         3.88537141e-01,  2.86238566e-01, -6.05946018e-02, -1.59434367e-02,\n",
       "        -2.00236907e-01,  6.49464444e-02,  8.36315338e-02, -2.44512498e-01,\n",
       "        -3.84625201e-01, -2.27658533e-01, -3.10495091e-02,  8.36056274e-02,\n",
       "         2.29066811e-01,  2.61157807e-01,  2.40828356e-01,  1.46082173e-01,\n",
       "         2.72543461e-02,  7.30199358e-02,  1.19262876e-01,  5.00936199e-02,\n",
       "         4.68550786e-02,  3.77803826e-02, -9.72695843e-02, -6.27652448e-02,\n",
       "        -1.52434990e-03,  4.51632701e-01,  5.55168172e-01,  5.01580435e-01,\n",
       "         2.97960359e-01,  4.43894362e-01,  3.69037869e-01,  6.94874078e-01,\n",
       "         5.24451533e-01,  2.01367632e-01, -1.75178636e-02,  6.69036913e-02,\n",
       "         4.06980645e-01,  5.70025476e-01,  9.37293969e-01,  3.52970060e-01,\n",
       "         4.53892422e-02, -2.40637061e-01, -2.18331379e-02, -5.89428054e-02,\n",
       "         7.44296193e-02,  1.46522829e-01,  3.01780921e-01,  2.07733166e-01,\n",
       "         1.00836150e-01,  4.74420384e-02,  2.99520940e-02,  3.91318706e-02,\n",
       "         2.58330652e-02,  1.35003974e-01, -6.48748303e-02,  1.31814582e-02,\n",
       "        -5.02595203e-02,  4.56274929e-01,  4.57205549e-01,  6.78858576e-01,\n",
       "         5.34496676e-01,  3.09608666e-01,  4.01333932e-01,  2.43494263e-01,\n",
       "         2.95595532e-01,  2.05502609e-02,  2.21743852e-01,  5.78569791e-01,\n",
       "         3.11612267e-01,  8.55104984e-01,  6.03789783e-01,  5.33098719e-01,\n",
       "         5.40640492e-01,  3.80582322e-02,  1.08885271e-02, -2.55220942e-01,\n",
       "        -1.03259838e-01, -1.03759254e-01,  6.08411974e-02,  1.53166506e-01,\n",
       "         1.88498225e-01,  2.28853683e-01, -1.00438482e-02,  6.10520816e-02,\n",
       "        -3.67824116e-03,  1.33099163e-01, -1.74822754e-01, -2.86539287e-01,\n",
       "        -1.07500436e+00, -5.18384978e-01, -5.38568715e-01, -1.06973956e+00,\n",
       "        -2.34390195e-01, -1.28322617e+00, -7.31497604e-01, -7.93319598e-01,\n",
       "        -7.13942153e-01, -9.32253883e-02,  2.17594290e-01,  7.54098816e-01,\n",
       "         7.05431153e-01,  6.76908622e-01,  5.43724108e-01,  2.40385997e-01,\n",
       "         5.68593595e-02,  2.48642536e-01, -2.96659516e-01, -3.31720658e-01,\n",
       "        -1.23212405e-01, -8.39164829e-02,  1.07894614e-02,  1.62946963e-01,\n",
       "         2.12299977e-01,  2.79675391e-01,  1.55765468e-01,  1.79810528e-01,\n",
       "         2.64428058e-01,  1.85112582e-01,  4.06411977e-02,  6.34193422e-03,\n",
       "        -9.99259374e-01, -1.30055471e+00, -1.14305971e+00, -1.60763554e+00,\n",
       "        -3.30994703e-01, -1.00358253e+00, -7.88718982e-01, -8.25358499e-01,\n",
       "        -7.60225147e-01, -5.53027262e-02, -4.14478300e-01,  1.33718496e+00,\n",
       "         1.47254340e+00,  7.62165153e-01,  1.06894732e+00,  7.98327915e-01,\n",
       "         8.32836509e-01,  1.19433727e+00, -5.05983294e-02, -6.22572358e-01,\n",
       "        -1.51752460e-01, -9.06139717e-02, -1.91174050e-02,  1.77084360e-01,\n",
       "         2.37321852e-01,  2.65552885e-01,  3.53803242e-01,  3.36427118e-01,\n",
       "         2.06110954e-01,  2.22649960e-01,  3.08948457e-01,  7.23810664e-02,\n",
       "        -1.05008089e+00, -1.09274468e+00, -7.48297911e-02, -6.75506884e-01,\n",
       "         1.40243916e-01, -6.34212739e-01, -4.89379369e-01,  2.96709708e-01,\n",
       "         3.00929712e-01, -6.91859390e-02, -2.75909577e-01,  1.97180428e+00,\n",
       "         1.12737157e+00,  6.57259863e-01,  1.14289904e+00,  1.02395030e+00,\n",
       "         4.27181652e-01,  1.19103058e+00,  9.59073956e-01, -8.96264863e-01,\n",
       "        -2.42725818e-01, -9.39939025e-02,  4.66813043e-02,  1.42598665e-01,\n",
       "         2.12595079e-01, -2.74084751e-02,  1.93313801e-01,  6.94737702e-02,\n",
       "        -7.10283805e-01, -5.96941790e-01, -1.28187364e+00, -1.11332968e+00,\n",
       "         4.56167737e-01,  8.27475400e-01,  2.39743770e-01,  6.05675475e-01,\n",
       "         5.52846067e-01, -9.90696476e-01, -6.97383014e-01, -7.07866057e-01,\n",
       "         2.67052671e-02, -1.49476315e-01, -1.27476284e-01,  1.71507901e+00,\n",
       "         9.05649595e-01,  5.34757432e-01,  9.21657731e-01,  8.65991462e-01,\n",
       "         2.28521019e-01,  9.91584606e-01,  8.59416993e-01, -1.01234044e+00,\n",
       "        -3.59791084e-01, -1.78638433e-01, -9.02321438e-02, -5.15659423e-02,\n",
       "         2.90410208e-03, -3.55886931e-01, -1.15672973e-01,  1.68299119e-01,\n",
       "         1.17012527e-01,  1.14324111e-01, -1.66975072e-01,  1.21621527e-03,\n",
       "        -2.05890527e-01,  4.32692650e-01,  1.07444453e-01, -1.49313142e+00,\n",
       "        -1.01440352e-01, -1.09994567e+00, -1.06622017e+00, -1.18765498e+00,\n",
       "        -8.69674572e-02, -2.81623838e-01, -3.79843253e-01,  1.21944090e+00,\n",
       "         3.77918361e-01,  3.43800214e-02,  6.59428820e-01,  5.17063450e-01,\n",
       "        -1.23866931e-01,  6.13719863e-01,  6.11125494e-01, -1.20032522e+00,\n",
       "        -6.21800029e-01, -3.03673355e-01, -4.74004861e-02,  3.11525191e-01,\n",
       "         4.87272146e-01, -4.97478807e-02, -6.58032979e-01,  5.78965893e-01,\n",
       "         6.57799933e-01,  6.64326153e-01,  3.40421698e-01,  3.23836827e-01,\n",
       "        -5.37458944e-01, -7.33257114e-01, -6.52869448e-01, -1.10949623e+00,\n",
       "        -4.05125478e-01, -1.38722240e+00, -7.99079234e-01, -1.32352856e+00,\n",
       "        -2.22959594e-01, -6.64187232e-01,  4.66359900e-03,  5.38158323e-01,\n",
       "        -2.55264472e-01, -5.17256763e-01,  5.22138711e-03, -1.84621623e-03,\n",
       "        -6.61898841e-01, -2.83002077e-01,  2.50922860e-01, -5.86500026e-01,\n",
       "        -5.57695278e-01, -2.56098868e-01,  9.05479454e-02,  3.12210825e-01,\n",
       "         3.54872562e-01,  1.98459741e-01, -7.10212950e-01,  6.79871297e-01,\n",
       "         6.80854646e-01,  4.69955088e-01,  4.94389341e-01,  3.91409065e-01,\n",
       "        -3.79330898e-01, -4.99006394e-01, -6.58405772e-02,  8.79643312e-01,\n",
       "         5.07259340e-01, -7.40459219e-01, -5.08839351e-01, -9.73070988e-01,\n",
       "        -3.60288742e-01, -5.58709827e-01,  2.95129781e-01,  7.12683262e-02,\n",
       "        -1.48555705e-01, -4.40698107e-01, -7.47670924e-02,  1.47940436e-01,\n",
       "        -4.98067582e-01, -4.08315584e-01, -2.45821476e-01,  3.25920713e-01,\n",
       "        -4.33449229e-01, -2.67829161e-01,  4.99530762e-02,  1.98626694e-01,\n",
       "         3.30947773e-01,  3.08598300e-01,  3.58815929e-01,  4.00732882e-01,\n",
       "         4.71485361e-01,  3.83871360e-01,  2.20940899e-01,  3.37541765e-01,\n",
       "        -1.06473201e-03, -4.59924092e-01,  6.15534265e-02,  7.27089304e-01,\n",
       "         7.55010049e-01,  5.41915246e-01,  3.76414291e-01,  3.27857005e-02,\n",
       "         3.06679987e-02, -2.26435337e-01,  4.21142386e-01, -5.60126389e-02,\n",
       "        -3.55073976e-01, -3.17043498e-01,  2.91227862e-01,  3.70409330e-01,\n",
       "        -3.10774454e-01, -4.96902212e-01, -5.35201323e-01,  2.68369390e-01,\n",
       "        -3.61764938e-01, -2.43138363e-01,  3.11400956e-02,  2.31598001e-01,\n",
       "         2.58262913e-01,  4.25501755e-01,  6.16204462e-01,  7.43962069e-01,\n",
       "         6.86051031e-01,  5.34113595e-01,  3.36387720e-01,  1.13447691e-01,\n",
       "         3.18040369e-01,  9.49041781e-01,  8.43824295e-01, -6.54856249e-02,\n",
       "         4.82403719e-01,  2.39857482e-01,  3.03227573e-02, -1.34387364e-01,\n",
       "        -2.16135867e-01, -3.24563462e-01, -5.51464639e-01, -5.66707499e-01,\n",
       "        -3.51621819e-01, -2.27329352e-01,  5.35257900e-01,  5.16208015e-01,\n",
       "        -2.16067294e-01, -5.34907294e-01, -1.04880932e+00, -9.62261488e-01,\n",
       "        -3.14008049e-01, -1.26139218e-01,  8.28096759e-02,  2.93822966e-01,\n",
       "         2.04556120e-01,  4.28050357e-01,  7.86376957e-01,  8.17164340e-01,\n",
       "         5.93044700e-01,  2.33357603e-01,  8.33257105e-02, -1.60478200e-01,\n",
       "         3.84510026e-01,  8.68399626e-01,  1.02263866e+00, -8.80882053e-01,\n",
       "         1.32500847e-01, -8.30355389e-01, -4.25669779e-01, -4.94330952e-01,\n",
       "        -7.30543131e-01, -9.56788955e-01, -6.72143993e-01, -5.59190679e-01,\n",
       "        -1.99684071e-01, -2.50676035e-01,  7.91874279e-01,  7.52924415e-01,\n",
       "        -1.56489147e-01, -2.72227161e-01, -8.61794587e-01, -6.98004757e-01,\n",
       "        -6.65916909e-01, -7.16948007e-01, -5.56980162e-01,  4.15626548e-01,\n",
       "        -7.77880805e-01, -2.75704404e-01,  6.25786996e-01,  6.07171259e-01,\n",
       "         6.31489943e-01,  3.01774140e-01,  1.04857224e-01, -1.00505900e-01,\n",
       "        -1.28419942e-01,  9.83513076e-02,  3.33146715e-01, -9.55648789e-01,\n",
       "        -2.42357373e-01, -8.56424557e-01, -4.55001916e-01, -4.86123406e-01,\n",
       "        -8.06053317e-01, -9.42362019e-01, -7.00072318e-01, -2.68151852e-01,\n",
       "         3.64077772e-01, -2.81820238e-01,  1.16090372e+00,  1.09896975e+00,\n",
       "         2.51565961e-01,  3.36859293e-01, -2.03444469e-01, -6.81741154e-01,\n",
       "        -7.48471229e-01, -8.70531899e-01, -6.99378736e-01,  5.45813922e-01,\n",
       "        -6.23806355e-01, -7.18222188e-01, -4.01976056e-03,  6.24356139e-01,\n",
       "         4.29530297e-01,  1.32365181e-01, -4.20475854e-02, -1.37546335e-01,\n",
       "        -8.35901015e-01,  7.07276761e-03, -1.48679222e-01,  4.78104289e-01,\n",
       "         8.19460872e-01,  5.91649359e-01,  6.77857601e-01,  2.51314096e-01,\n",
       "         4.03664802e-01, -1.96164001e-01, -3.22358265e-01, -3.24159725e-02,\n",
       "         1.09987758e+00, -7.31771995e-02,  1.18703772e+00,  1.17325512e+00,\n",
       "         4.49321060e-01,  7.27741368e-01,  8.22737890e-01, -2.65482210e-01,\n",
       "        -7.99770797e-01, -1.05451224e+00, -8.21287006e-01,  3.35358204e-01,\n",
       "        -4.74484968e-01, -6.97248777e-01, -7.46557830e-01,  1.88738391e-01,\n",
       "         2.75687387e-01,  7.17040222e-02,  1.37261127e-01, -3.13685139e-01,\n",
       "        -8.09633353e-01,  1.06409828e-01,  5.91783934e-01, -2.56442679e-01,\n",
       "         3.56824283e-01,  5.14942812e-01,  6.64832588e-01, -3.11620216e-02,\n",
       "         1.52666330e-01, -2.76249754e-02, -1.76601347e-01,  5.87839499e-01,\n",
       "         1.49151913e+00,  1.74537243e-01,  7.50845901e-01,  1.02518684e+00,\n",
       "         5.97346257e-01,  9.50833863e-01,  1.18389288e+00,  1.47179313e+00,\n",
       "         1.95689573e+00,  1.46200037e+00,  2.78064226e-01,  3.94082705e-01,\n",
       "        -5.28558451e-01, -6.77366667e-01, -2.64185838e-01,  7.97001107e-02,\n",
       "         2.20870947e-01,  2.21006433e-01,  2.61125857e-01, -1.00175220e-01,\n",
       "        -8.62348200e-01, -5.97638722e-02,  8.01435472e-01, -9.38981985e-01,\n",
       "        -7.57316753e-01,  4.51087039e-01, -3.98555264e-01, -1.16638316e+00,\n",
       "         1.33669050e-01,  1.20416533e+00,  1.15122381e+00,  1.51880991e+00,\n",
       "         1.52122159e+00,  7.71798283e-01,  8.47448768e-01,  9.78000303e-01,\n",
       "         8.19106356e-01,  1.02049504e+00,  1.31072519e+00,  1.76553040e+00,\n",
       "         2.07686668e+00,  2.26064681e+00,  2.49861495e+00,  2.48621299e+00,\n",
       "         1.80377518e+00,  9.56234301e-01, -3.68674687e-01, -3.30878131e-01,\n",
       "         5.21793434e-01,  1.78457620e-01,  2.80603993e-01,  6.64360099e-02,\n",
       "        -7.32504782e-01, -2.98646797e-01, -1.30383148e-01, -9.56174258e-01,\n",
       "        -5.01003557e-01,  4.92173497e-01,  8.24456409e-01,  1.69198415e+00,\n",
       "         2.35535910e+00,  2.32572853e+00,  1.56209218e+00,  1.74034532e+00,\n",
       "         1.01265679e+00,  9.63538298e-01,  8.14741439e-01,  8.66583771e-01,\n",
       "         8.87660415e-01,  4.88708294e-01,  1.36562052e+00,  1.53117061e+00,\n",
       "         1.84792929e+00,  2.05800144e+00,  2.05015997e+00,  2.10506994e+00,\n",
       "         1.95405889e+00,  2.46750456e+00,  2.60703330e+00, -6.11302235e-02,\n",
       "        -4.13036102e-01, -1.18743806e-01,  3.67260168e-01,  2.49919690e-01,\n",
       "        -7.83507659e-01, -3.32061940e-01,  8.52467233e-02,  5.99956500e-01,\n",
       "         1.19158321e+00,  2.18867453e+00,  2.37977417e+00,  2.11999200e+00,\n",
       "         1.89183638e+00,  1.91947304e+00,  1.42409995e+00,  1.32309372e+00,\n",
       "         5.91517869e-01,  1.01792966e+00,  7.99227450e-01,  9.27042365e-01,\n",
       "         3.57600358e-01, -1.25347664e-01,  1.10388006e+00,  1.41668718e+00,\n",
       "         1.79377033e+00,  1.82016454e+00,  1.80403090e+00,  1.84577042e+00,\n",
       "         1.82748770e+00,  2.03587865e+00,  2.50282909e+00,  2.86357194e+00,\n",
       "         1.79362647e-01,  9.71845539e-01,  9.93320349e-01,  1.09968257e+00,\n",
       "        -8.47335088e-01, -3.99034468e-01,  6.55328138e-02,  3.18517275e-01,\n",
       "         2.11906705e+00,  2.05322669e+00,  1.97140317e+00,  1.84711562e+00,\n",
       "         1.74680992e+00,  1.88250964e+00,  1.56094867e+00,  1.40917281e+00,\n",
       "         6.63824597e-01,  6.91446541e-01,  9.73033773e-01,  9.15207857e-01,\n",
       "         3.76130622e-01, -1.58200917e-03,  1.26874735e+00,  1.37003283e+00,\n",
       "         1.66546127e+00,  1.70157953e+00,  1.73201539e+00,  1.77110994e+00,\n",
       "         1.67979291e+00,  1.70901391e+00,  1.93521458e+00,  2.46206057e+00,\n",
       "         2.15420479e+00,  9.74784510e-01,  1.12055288e+00,  1.18248823e+00,\n",
       "        -5.52069717e-01, -4.38447917e-01, -2.17438899e-01,  1.58297785e+00,\n",
       "         1.93438062e+00,  1.83876209e+00,  1.87871926e+00,  1.73056490e+00,\n",
       "         1.63021638e+00,  1.70487250e+00,  1.74285960e+00,  1.30388655e+00,\n",
       "         7.25073906e-01,  6.96260352e-01,  1.18193297e+00,  8.05848063e-01,\n",
       "         1.00597140e+00,  6.95985989e-01,  1.23467086e+00,  1.45219256e+00,\n",
       "         1.56643860e+00,  1.59542541e+00,  1.65017182e+00,  1.71526488e+00,\n",
       "         1.59014075e+00,  1.57713499e+00,  1.68068826e+00,  1.97030895e+00,\n",
       "         2.09987784e+00,  7.02099915e-01,  1.01929001e+00,  1.18341903e+00,\n",
       "        -9.00978291e-01, -5.61769441e-01, -1.02403756e-01,  1.84871783e+00,\n",
       "         1.68971724e+00,  1.82258819e+00,  1.81607199e+00,  1.62102479e+00,\n",
       "         1.54354687e+00,  1.63337730e+00,  1.60004677e+00,  1.51605002e+00,\n",
       "         1.11501437e+00,  8.69727174e-01,  9.67141459e-01,  1.25147115e+00,\n",
       "         1.27691864e+00,  1.31025253e+00,  1.38197076e+00,  1.42935126e+00,\n",
       "         1.50557985e+00,  1.58189484e+00,  1.61601678e+00,  1.62945537e+00,\n",
       "         1.50822640e+00,  1.54754198e+00,  1.64976522e+00,  1.74362089e+00,\n",
       "         1.78679460e+00,  1.05018520e+00,  7.77239458e-01,  1.16907892e+00,\n",
       "        -7.01823208e-01, -5.38975570e-01,  4.92308363e-01,  1.65840597e+00,\n",
       "         1.63907101e+00,  1.70167508e+00,  1.76931442e+00,  1.59078555e+00,\n",
       "         1.50994370e+00,  1.60949898e+00,  1.56195500e+00,  1.52913715e+00,\n",
       "         1.33985082e+00,  1.19962553e+00,  1.00643788e+00,  1.36593970e+00,\n",
       "         1.31591400e+00,  1.35526637e+00,  1.36636151e+00,  1.34929024e+00,\n",
       "         1.45465388e+00,  1.49909677e+00,  1.53853145e+00,  1.56479548e+00,\n",
       "         1.53573278e+00,  1.34375223e+00,  1.59726939e+00,  1.62242668e+00,\n",
       "         1.62066653e+00,  1.56906233e+00,  3.42065014e-01,  1.10085119e+00]),\n",
       " array([[0.],\n",
       "        [0.],\n",
       "        [0.],\n",
       "        [1.]]))"
      ]
     },
     "execution_count": 8,
     "metadata": {},
     "output_type": "execute_result"
    }
   ],
   "source": [
    "train[0]"
   ]
  },
  {
   "cell_type": "code",
   "execution_count": 9,
   "metadata": {},
   "outputs": [],
   "source": [
    "linear1 = Linear(input_shape, input_shape//2)\n",
    "relu1 = ReLU(linear1)\n",
    "linear2 = Linear(input_shape//2, input_shape//4, relu1)\n",
    "relu2 = ReLU(linear2)\n",
    "linear3 = Linear(input_shape//4, input_shape//8, relu2)\n",
    "relu3 = ReLU(linear3)\n",
    "linear4 = Linear(input_shape//8, input_shape//16, relu3)\n",
    "relu4 = ReLU(linear4)\n",
    "linear5 = Linear(input_shape//16, len(dataset.keys), relu4)\n",
    "softmaxlayer = Softmax(linear5)\n",
    "loss_layer = CrossEntropy(softmaxlayer)\n",
    "\n",
    "model = NeuralNetwork(linear1, softmaxlayer, loss_layer)"
   ]
  },
  {
   "cell_type": "code",
   "execution_count": 10,
   "metadata": {},
   "outputs": [
    {
     "name": "stdout",
     "output_type": "stream",
     "text": [
      "11\n",
      "[<neural_network.layer.Softmax object at 0x0000018F9E397850>]\n",
      "Forward order:\n",
      "Linear: (960, 1) -> (480, 1)\n",
      "ReLU\n",
      "Linear: (480, 1) -> (240, 1)\n",
      "ReLU\n",
      "Linear: (240, 1) -> (120, 1)\n",
      "ReLU\n",
      "Linear: (120, 1) -> (60, 1)\n",
      "ReLU\n",
      "Linear: (60, 1) -> (4, 1)\n",
      "Softmax\n",
      "CrossEntropy\n",
      "\n",
      "Backward order:\n",
      "CrossEntropy\n",
      "Softmax\n",
      "Linear: (60, 1) -> (4, 1)\n",
      "ReLU\n",
      "Linear: (120, 1) -> (60, 1)\n",
      "ReLU\n",
      "Linear: (240, 1) -> (120, 1)\n",
      "ReLU\n",
      "Linear: (480, 1) -> (240, 1)\n",
      "ReLU\n",
      "Linear: (960, 1) -> (480, 1)\n"
     ]
    }
   ],
   "source": [
    "print(model.n_layers)\n",
    "print(model.output_layer)\n",
    "\n",
    "print(\"Forward order:\")\n",
    "for layer in model._forward_order:\n",
    "    print(layer)\n",
    "\n",
    "print(\"\\nBackward order:\")\n",
    "for layer in model._backward_order:\n",
    "    print(layer)"
   ]
  },
  {
   "cell_type": "code",
   "execution_count": 12,
   "metadata": {},
   "outputs": [
    {
     "name": "stderr",
     "output_type": "stream",
     "text": [
      "[0.00045561]: 100%|██████████| 100/100 [02:30<00:00,  1.50s/it]\n"
     ]
    }
   ],
   "source": [
    "loss_array = []\n",
    "pbar = tqdm(range(50))\n",
    "for i in pbar:\n",
    "    epoch_loss = 0\n",
    "    for data, label in train:\n",
    "        data = data.reshape(-1, 1)\n",
    "        out = model.forward(data)\n",
    "        #print(out)\n",
    "        loss = model.loss_layer.forward(out, label)\n",
    "        epoch_loss += loss\n",
    "        model.backward()\n",
    "        model.step()\n",
    "    epoch_loss = epoch_loss / len(train)\n",
    "    loss_array.append(epoch_loss)\n",
    "    pbar.set_description(str(epoch_loss))"
   ]
  },
  {
   "cell_type": "code",
   "execution_count": 23,
   "metadata": {},
   "outputs": [
    {
     "data": {
      "image/png": "[encoded data removed]",
      "text/plain": [
       "<Figure size 640x480 with 1 Axes>"
      ]
     },
     "metadata": {},
     "output_type": "display_data"
    }
   ],
   "source": [
    "plt.plot(loss_array[:50])\n",
    "plt.title(\"Average loss per epoch\")\n",
    "plt.xlabel(\"Epoch\")\n",
    "plt.ylabel(\"Average Loss\")\n",
    "plt.grid()"
   ]
  },
  {
   "cell_type": "code",
   "execution_count": 16,
   "metadata": {},
   "outputs": [],
   "source": [
    "unique, counts = np.unique(dataset.label, return_counts=True)"
   ]
  },
  {
   "cell_type": "code",
   "execution_count": 21,
   "metadata": {},
   "outputs": [
    {
     "name": "stdout",
     "output_type": "stream",
     "text": [
      "['left' 'right' 'straight' 'up']\n",
      "[157 155 156 156]\n"
     ]
    }
   ],
   "source": [
    "print(dataset.keys[unique])\n",
    "print(counts)"
   ]
  },
  {
   "cell_type": "code",
   "execution_count": 44,
   "metadata": {},
   "outputs": [
    {
     "data": {
      "text/plain": [
       "(960, 1)"
      ]
     },
     "execution_count": 44,
     "metadata": {},
     "output_type": "execute_result"
    }
   ],
   "source": [
    "from PIL import Image\n",
    "my_img = Image.open(\"test/woman_straight.jpg\").convert(\"L\")\n",
    "my_img = np.array(my_img).reshape(-1, 1)\n",
    "my_img.shape"
   ]
  },
  {
   "cell_type": "code",
   "execution_count": 45,
   "metadata": {},
   "outputs": [
    {
     "data": {
      "text/plain": [
       "array([[1.00000000e+000],\n",
       "       [1.01919656e-064],\n",
       "       [9.57994512e-225],\n",
       "       [4.93289541e-060]])"
      ]
     },
     "execution_count": 45,
     "metadata": {},
     "output_type": "execute_result"
    }
   ],
   "source": [
    "model.forward(my_img)"
   ]
  }
 ],
 "metadata": {
  "kernelspec": {
   "display_name": "torch",
   "language": "python",
   "name": "python3"
  },
  "language_info": {
   "codemirror_mode": {
    "name": "ipython",
    "version": 3
   },
   "file_extension": ".py",
   "mimetype": "text/x-python",
   "name": "python",
   "nbconvert_exporter": "python",
   "pygments_lexer": "ipython3",
   "version": "3.10.13"
  }
 },
 "nbformat": 4,
 "nbformat_minor": 2
}
